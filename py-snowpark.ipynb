{
 "cells": [
  {
   "cell_type": "markdown",
   "metadata": {},
   "source": [
    "### The following code establishes connection with snowflake using snowpark.\n",
    "### Note: snowpark uses 3.8.16\n",
    "The code then:\n",
    "\n",
    "1. executes sql code in python\n",
    "2. works with snowpark dataframe to call and merge snowflake tables\n",
    "3. publishes snowpark dataframe to snowflake"
   ]
  },
  {
   "cell_type": "code",
   "execution_count": null,
   "metadata": {},
   "outputs": [],
   "source": [
    "from snowflake.sqlalchemy import URL\n",
    "from sqlalchemy import create_engine\n",
    "from snowflake.snowpark import Session\n",
    "import pandas as pd"
   ]
  },
  {
   "cell_type": "code",
   "execution_count": null,
   "metadata": {},
   "outputs": [],
   "source": [
    "connection_parameters = {\n",
    "    \"user\": \"user\", #update for your own account\n",
    "    \"authenticator\": \"externalbrowser\",\n",
    "    \"account\": \"account\", #update for your own account\n",
    "    \"database\": \"database\", #update for your own account\n",
    "    \"schema\": \"schema\",} #update for your own account\n",
    " \n",
    "\n",
    "session = Session.builder.configs(connection_parameters).create()"
   ]
  },
  {
   "cell_type": "markdown",
   "metadata": {},
   "source": [
    "Quering data \n",
    "1. ..Will not query data for below on snowflake <br> query_1 = session.sql(\"code\")\n",
    "2. .. Will query data fro below on snowflake because of **collect()** <br> query_2 = session.sql(\"code\").collect()\n",
    "3. .. Will query data for query_1 because **show()** <br> query_1.show()"
   ]
  },
  {
   "cell_type": "code",
   "execution_count": null,
   "metadata": {},
   "outputs": [],
   "source": [
    "q = \"\"\"\n",
    "    create or replace temp table \"temp_table1\" as( \n",
    "    SELECT distinct col1,\n",
    "           col2,\n",
    "           col3 AS col_alias1,\n",
    "           1 AS col_alias2\n",
    "    FROM schema1.table1 col_alias3 \n",
    "    WHERE col4 = 'VALUE'\n",
    "        AND col1 IS NOT NULL \n",
    "        AND YEAR(col5) = [YEAR]\n",
    "        AND MONTH(col5) <= [MONTH])\n",
    "\"\"\"\n",
    "\n",
    "# 1.\n",
    "session.sql(q)\n",
    "\n",
    "# 2.\n",
    "session.sql(q).collect()\n",
    "\n",
    "# 3.\n",
    "query_2 = session.sql(q).show()"
   ]
  },
  {
   "cell_type": "code",
   "execution_count": null,
   "metadata": {},
   "outputs": [],
   "source": [
    "# You can also open a sql text file and execute separate queries\n",
    "# Open the sql text file in read mode\n",
    "generic_file_path = \"./generic_file.sql\"\n",
    "text_file = open(generic_file_path, \"r\")\n",
    "\n",
    "# Read the whole file to a string\n",
    "generic_sql_content = text_file.read()\n",
    "\n",
    "# Close the file\n",
    "text_file.close()\n",
    "\n",
    "# Execute the content from the file\n",
    "generic_result1 = session.sql(generic_sql_content.split(';')[0]).collect()\n",
    "generic_result2 = session.sql(generic_sql_content.split(';')[1]).collect()\n",
    "generic_result3 = session.sql(generic_sql_content.split(';')[2]).collect()\n",
    "\n",
    "# Read in generic tables - use to check that execution ran properly\n",
    "df_table1 = session.table(\"generic_schema.generic_table1\")\n",
    "df_table2 = session.table(\"generic_schema.generic_table2\")\n",
    "df_table3 = session.table(\"generic_schema.generic_table3\")\n",
    "\n",
    "df_table1.show()\n",
    "df_table2.show()\n",
    "df_table3.show()\n"
   ]
  },
  {
   "cell_type": "markdown",
   "metadata": {},
   "source": [
    "#### Creating Snowpark Dataframe by directly reading a table \n",
    "<br> df_tbl_ad = session.table(\"code\") \n",
    "<br> #df_tbl_read.show()"
   ]
  },
  {
   "cell_type": "code",
   "execution_count": null,
   "metadata": {},
   "outputs": [],
   "source": [
    "df = session.table(\"analytics.cacp_y1_ergo\").show()"
   ]
  },
  {
   "cell_type": "markdown",
   "metadata": {},
   "source": [
    "Creating Snowpark Dataframe by joining two tables/dataframes\n",
    "<br> df_tbl2_read = session.table(\"code\")\n",
    "<br> df_join = df_tbl_read.join(df_tbl2_read, df_tbl_read[\"var\"] == df_tbl2_read[\"var\"])\n",
    "<br> df_join.show()"
   ]
  },
  {
   "cell_type": "code",
   "execution_count": null,
   "metadata": {},
   "outputs": [],
   "source": [
    "df_generic1_read = session.table(\"generic_schema.table1\")\n",
    "df_generic2_read = session.table(\"generic_schema.table2\")\n",
    "df_join_generic = df_generic1_read.join(df_generic2_read, df_generic1_read[\"generic_col1\"] == df_generic2_read[\"generic_col2\"])\n",
    "df_join.show()"
   ]
  },
  {
   "cell_type": "markdown",
   "metadata": {},
   "source": [
    "Publishing output"
   ]
  },
  {
   "cell_type": "code",
   "execution_count": null,
   "metadata": {},
   "outputs": [],
   "source": [
    "# generic_function_name function\n",
    "generic_df = generic_function_name(generic_query, generic_list)\n",
    "\n",
    "# export to a generic Excel file\n",
    "with pd.ExcelWriter('generic_filename.xlsx') as writer:\n",
    "    generic_df.to_excel(writer, sheet_name=\"generic_sheet_name\", index=False)\n",
    "\n",
    "# write to a generic database\n",
    "df.write.mode(\"overwrite\").saveAsTable(\"generic_schema.generic_table_name\")\n"
   ]
  }
 ],
 "metadata": {
  "kernelspec": {
   "display_name": "py_low",
   "language": "python",
   "name": "python3"
  },
  "language_info": {
   "codemirror_mode": {
    "name": "ipython",
    "version": 3
   },
   "file_extension": ".py",
   "mimetype": "text/x-python",
   "name": "python",
   "nbconvert_exporter": "python",
   "pygments_lexer": "ipython3",
   "version": "3.8.16"
  }
 },
 "nbformat": 4,
 "nbformat_minor": 2
}
