{
 "cells": [
  {
   "cell_type": "code",
   "execution_count": null,
   "metadata": {},
   "outputs": [],
   "source": []
  },
  {
   "cell_type": "code",
   "execution_count": null,
   "metadata": {},
   "outputs": [],
   "source": [
    "import snowflake.connector\n",
    "from sqlalchemy import create_engine\n",
    "from snowflake.sqlalchemy import URL"
   ]
  },
  {
   "cell_type": "code",
   "execution_count": null,
   "metadata": {},
   "outputs": [],
   "source": [
    "#connection\n",
    "DATABASE = 'YOUR_DATABASE'\n",
    "schema = 'YOUR_SCHEMA'\n",
    "username = 'YOUR_USERNAME' #update for your own account\n",
    "account = 'YOUR_ACCOUNT.YOUR_REGION'\n",
    "\n",
    "kwargs = {\"authenticator\": \"YOUR_AUTHENTICATOR_METHOD\"} #options\n",
    "\n",
    "connection = snowflake.connector.connect(\n",
    "    user       = username,\n",
    "    password   = \"YOUR_PASSWORD\",\n",
    "    account    = account,\n",
    "    **kwargs\n",
    "    )\n",
    "\n",
    "#specify schema\n",
    "cur = connection.cursor()\n",
    "\n",
    "# engine\n",
    "engine = create_engine(URL(\n",
    "    account = 'YOUR_ACCOUNT.YOUR_REGION',\n",
    "    user = 'YOUR_USERNAME',\n",
    "    database = 'YOUR_DB_NAME',\n",
    "    schema = 'YOUR_SCHEMA',\n",
    "    authenticator='YOUR_AUTHENTICATOR_METHOD'))          \n"
   ]
  },
  {
   "cell_type": "code",
   "execution_count": null,
   "metadata": {},
   "outputs": [],
   "source": [
    "# Date lists\n",
    "var_list = ['DATE_1', 'DATE_2', 'DATE_3', 'DATE_4', 'DATE_5', 'DATE_6', 'DATE_7', 'DATE_8', 'DATE_9', 'DATE_10', 'DATE_11']\n",
    "mth_list = ['MONTH_1', 'MONTH_2', 'MONTH_3', 'MONTH_4', 'MONTH_5', 'MONTH_6', 'MONTH_7', 'MONTH_8', 'MONTH_9', 'MONTH_10', 'MONTH_11']\n",
    "cur_list = ['START_DATE_1', 'START_DATE_2', 'START_DATE_3', 'START_DATE_4', 'START_DATE_5', 'START_DATE_6', 'START_DATE_7', 'START_DATE_8', 'START_DATE_9', 'START_DATE_10', 'START_DATE_11']\n",
    "cur_list2= ['END_DATE_1', 'END_DATE_2', 'END_DATE_3', 'END_DATE_4', 'END_DATE_5', 'END_DATE_6', 'END_DATE_7', 'END_DATE_8', 'END_DATE_9', 'END_DATE_10', 'END_DATE_11']\n",
    "\n",
    "# SQL query template\n",
    "query = \"\"\"\n",
    "select pt.COLUMN_1\n",
    "         , pt.COLUMN_2\n",
    "         , {var2}.COLUMN_3\n",
    "         , {var2}.COLUMN_4\n",
    "         ...\n",
    "         , {var2}.COLUMN_N\n",
    "from YOUR_TABLE_1 pt\n",
    "join YOUR_TABLE_2_{var1} {var2}\n",
    "on pt.ID_COLUMN={var2}.ID_COLUMN\n",
    "where pt.DATE_COLUMN between '{var3}' and '{var4}'\n",
    "and pt.COLUMN_FILTER_1 = 'FILTER_VALUE'\n",
    "and pt.COLUMN_FILTER_2 in ('FILTER_VALUE_1') and COLUMN_FILTER_3 = 1\n",
    "\"\"\"\n",
    "\n",
    "dataframes = []\n",
    "\n",
    "for var1, var2, var3, var4 in zip(var_list, mth_list, cur_list, cur_list2):\n",
    "    # Format and execute the modified query\n",
    "    query_to_execute = query.format(var1=var1, var2=var2, var3=var3, var4=var4)\n",
    "    df = pd.read_sql(query_to_execute, connection)\n",
    "    df.columns = df.columns.str.lower() \n",
    "    dataframes.append(df)\n",
    "\n",
    "final_dataframe = pd.concat(dataframes, ignore_index=True)\n",
    "final_dataframe.drop_duplicates(subset='YOUR_ID_COLUMN', keep='last', inplace=True)\n"
   ]
  },
  {
   "cell_type": "code",
   "execution_count": null,
   "metadata": {},
   "outputs": [],
   "source": [
    "final_dataframe"
   ]
  },
  {
   "cell_type": "code",
   "execution_count": null,
   "metadata": {},
   "outputs": [],
   "source": [
    "# Write the DataFrame to Snowflake\n",
    "table_name = \"loop_example\"\n",
    "final_dataframe.to_sql(table_name, engine, if_exists='replace', index=False)  # 'replace' will replace the table if it exists, 'append' will insert new rows"
   ]
  },
  {
   "cell_type": "code",
   "execution_count": null,
   "metadata": {},
   "outputs": [],
   "source": []
  }
 ],
 "metadata": {
  "kernelspec": {
   "display_name": "base",
   "language": "python",
   "name": "python3"
  },
  "language_info": {
   "codemirror_mode": {
    "name": "ipython",
    "version": 3
   },
   "file_extension": ".py",
   "mimetype": "text/x-python",
   "name": "python",
   "nbconvert_exporter": "python",
   "pygments_lexer": "ipython3",
   "version": "3.9.17"
  }
 },
 "nbformat": 4,
 "nbformat_minor": 2
}
